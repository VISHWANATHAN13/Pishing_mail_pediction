{
 "cells": [
  {
   "cell_type": "markdown",
   "id": "fff80ebb",
   "metadata": {},
   "source": [
    "# Importing packages"
   ]
  },
  {
   "cell_type": "code",
   "execution_count": 1,
   "id": "7e062c32",
   "metadata": {},
   "outputs": [
    {
     "name": "stderr",
     "output_type": "stream",
     "text": [
      "C:\\Users\\vishw\\anaconda3\\lib\\site-packages\\scipy\\__init__.py:155: UserWarning: A NumPy version >=1.18.5 and <1.25.0 is required for this version of SciPy (detected version 1.26.4\n",
      "  warnings.warn(f\"A NumPy version >={np_minversion} and <{np_maxversion}\"\n"
     ]
    }
   ],
   "source": [
    "import pandas as pd\n",
    "import matplotlib.pyplot as plt\n",
    "import numpy as np\n",
    "import seaborn as sns\n",
    "from sklearn.model_selection import train_test_split\n",
    "from sklearn.feature_extraction.text import TfidfVectorizer\n",
    "from sklearn.linear_model import LogisticRegression\n",
    "from sklearn.metrics import accuracy_score"
   ]
  },
  {
   "cell_type": "markdown",
   "id": "6f6a0d74",
   "metadata": {},
   "source": [
    "# opening the file"
   ]
  },
  {
   "cell_type": "code",
   "execution_count": 2,
   "id": "4fbe3ac1",
   "metadata": {},
   "outputs": [],
   "source": [
    "df=pd.read_csv('E:/practice/Phishing_Email.csv')"
   ]
  },
  {
   "cell_type": "code",
   "execution_count": 3,
   "id": "65ce80e9",
   "metadata": {},
   "outputs": [
    {
     "data": {
      "text/html": [
       "<div>\n",
       "<style scoped>\n",
       "    .dataframe tbody tr th:only-of-type {\n",
       "        vertical-align: middle;\n",
       "    }\n",
       "\n",
       "    .dataframe tbody tr th {\n",
       "        vertical-align: top;\n",
       "    }\n",
       "\n",
       "    .dataframe thead th {\n",
       "        text-align: right;\n",
       "    }\n",
       "</style>\n",
       "<table border=\"1\" class=\"dataframe\">\n",
       "  <thead>\n",
       "    <tr style=\"text-align: right;\">\n",
       "      <th></th>\n",
       "      <th>Unnamed: 0</th>\n",
       "      <th>Email Text</th>\n",
       "      <th>Email Type</th>\n",
       "    </tr>\n",
       "  </thead>\n",
       "  <tbody>\n",
       "    <tr>\n",
       "      <th>0</th>\n",
       "      <td>0</td>\n",
       "      <td>re : 6 . 1100 , disc : uniformitarianism , re ...</td>\n",
       "      <td>Safe Email</td>\n",
       "    </tr>\n",
       "    <tr>\n",
       "      <th>1</th>\n",
       "      <td>1</td>\n",
       "      <td>the other side of * galicismos * * galicismo *...</td>\n",
       "      <td>Safe Email</td>\n",
       "    </tr>\n",
       "    <tr>\n",
       "      <th>2</th>\n",
       "      <td>2</td>\n",
       "      <td>re : equistar deal tickets are you still avail...</td>\n",
       "      <td>Safe Email</td>\n",
       "    </tr>\n",
       "    <tr>\n",
       "      <th>3</th>\n",
       "      <td>3</td>\n",
       "      <td>\\nHello I am your hot lil horny toy.\\n    I am...</td>\n",
       "      <td>Phishing Email</td>\n",
       "    </tr>\n",
       "    <tr>\n",
       "      <th>4</th>\n",
       "      <td>4</td>\n",
       "      <td>software at incredibly low prices ( 86 % lower...</td>\n",
       "      <td>Phishing Email</td>\n",
       "    </tr>\n",
       "  </tbody>\n",
       "</table>\n",
       "</div>"
      ],
      "text/plain": [
       "   Unnamed: 0                                         Email Text  \\\n",
       "0           0  re : 6 . 1100 , disc : uniformitarianism , re ...   \n",
       "1           1  the other side of * galicismos * * galicismo *...   \n",
       "2           2  re : equistar deal tickets are you still avail...   \n",
       "3           3  \\nHello I am your hot lil horny toy.\\n    I am...   \n",
       "4           4  software at incredibly low prices ( 86 % lower...   \n",
       "\n",
       "       Email Type  \n",
       "0      Safe Email  \n",
       "1      Safe Email  \n",
       "2      Safe Email  \n",
       "3  Phishing Email  \n",
       "4  Phishing Email  "
      ]
     },
     "execution_count": 3,
     "metadata": {},
     "output_type": "execute_result"
    }
   ],
   "source": [
    "df.head()"
   ]
  },
  {
   "cell_type": "markdown",
   "id": "29cb677d",
   "metadata": {},
   "source": [
    "## removing unnecessary columns"
   ]
  },
  {
   "cell_type": "code",
   "execution_count": 4,
   "id": "42f63606",
   "metadata": {},
   "outputs": [],
   "source": [
    "df=df.drop('Unnamed: 0',axis=1)"
   ]
  },
  {
   "cell_type": "code",
   "execution_count": 5,
   "id": "92431cdd",
   "metadata": {
    "scrolled": true
   },
   "outputs": [
    {
     "data": {
      "text/html": [
       "<div>\n",
       "<style scoped>\n",
       "    .dataframe tbody tr th:only-of-type {\n",
       "        vertical-align: middle;\n",
       "    }\n",
       "\n",
       "    .dataframe tbody tr th {\n",
       "        vertical-align: top;\n",
       "    }\n",
       "\n",
       "    .dataframe thead th {\n",
       "        text-align: right;\n",
       "    }\n",
       "</style>\n",
       "<table border=\"1\" class=\"dataframe\">\n",
       "  <thead>\n",
       "    <tr style=\"text-align: right;\">\n",
       "      <th></th>\n",
       "      <th>Email Text</th>\n",
       "      <th>Email Type</th>\n",
       "    </tr>\n",
       "  </thead>\n",
       "  <tbody>\n",
       "    <tr>\n",
       "      <th>0</th>\n",
       "      <td>re : 6 . 1100 , disc : uniformitarianism , re ...</td>\n",
       "      <td>Safe Email</td>\n",
       "    </tr>\n",
       "    <tr>\n",
       "      <th>1</th>\n",
       "      <td>the other side of * galicismos * * galicismo *...</td>\n",
       "      <td>Safe Email</td>\n",
       "    </tr>\n",
       "    <tr>\n",
       "      <th>2</th>\n",
       "      <td>re : equistar deal tickets are you still avail...</td>\n",
       "      <td>Safe Email</td>\n",
       "    </tr>\n",
       "    <tr>\n",
       "      <th>3</th>\n",
       "      <td>\\nHello I am your hot lil horny toy.\\n    I am...</td>\n",
       "      <td>Phishing Email</td>\n",
       "    </tr>\n",
       "    <tr>\n",
       "      <th>4</th>\n",
       "      <td>software at incredibly low prices ( 86 % lower...</td>\n",
       "      <td>Phishing Email</td>\n",
       "    </tr>\n",
       "  </tbody>\n",
       "</table>\n",
       "</div>"
      ],
      "text/plain": [
       "                                          Email Text      Email Type\n",
       "0  re : 6 . 1100 , disc : uniformitarianism , re ...      Safe Email\n",
       "1  the other side of * galicismos * * galicismo *...      Safe Email\n",
       "2  re : equistar deal tickets are you still avail...      Safe Email\n",
       "3  \\nHello I am your hot lil horny toy.\\n    I am...  Phishing Email\n",
       "4  software at incredibly low prices ( 86 % lower...  Phishing Email"
      ]
     },
     "execution_count": 5,
     "metadata": {},
     "output_type": "execute_result"
    }
   ],
   "source": [
    "df.head()"
   ]
  },
  {
   "cell_type": "code",
   "execution_count": 6,
   "id": "1d6fc3b6",
   "metadata": {},
   "outputs": [
    {
     "data": {
      "text/plain": [
       "(18650, 2)"
      ]
     },
     "execution_count": 6,
     "metadata": {},
     "output_type": "execute_result"
    }
   ],
   "source": [
    "df.shape"
   ]
  },
  {
   "cell_type": "markdown",
   "id": "23496ec0",
   "metadata": {},
   "source": [
    "# Removing Null values"
   ]
  },
  {
   "cell_type": "code",
   "execution_count": 7,
   "id": "74207922",
   "metadata": {},
   "outputs": [],
   "source": [
    "df=df.dropna()"
   ]
  },
  {
   "cell_type": "code",
   "execution_count": 8,
   "id": "b9226141",
   "metadata": {},
   "outputs": [
    {
     "data": {
      "text/plain": [
       "Text(0.5, 1.0, 'data before downsampling')"
      ]
     },
     "execution_count": 8,
     "metadata": {},
     "output_type": "execute_result"
    },
    {
     "data": {
      "image/png": "[encoded data removed]",
      "text/plain": [
       "<Figure size 640x480 with 1 Axes>"
      ]
     },
     "metadata": {},
     "output_type": "display_data"
    }
   ],
   "source": [
    "sns.countplot(data=df,x=\"Email Type\")\n",
    "plt.title(\"data before downsampling\")"
   ]
  },
  {
   "cell_type": "code",
   "execution_count": 9,
   "id": "10820634",
   "metadata": {
    "scrolled": true
   },
   "outputs": [
    {
     "name": "stderr",
     "output_type": "stream",
     "text": [
      "C:\\Users\\vishw\\AppData\\Local\\Temp\\ipykernel_828\\559161775.py:5: FutureWarning: The frame.append method is deprecated and will be removed from pandas in a future version. Use pandas.concat instead.\n",
      "  df=safe.append(unsafe).reset_index(drop=True)\n"
     ]
    }
   ],
   "source": [
    "# downsampling the excess data\n",
    "safe=df[df['Email Type']=='Safe Email']\n",
    "unsafe=df[df['Email Type']=='Phishing Email']\n",
    "safe=safe.sample(n=len(unsafe),random_state=42)\n",
    "df=safe.append(unsafe).reset_index(drop=True)"
   ]
  },
  {
   "cell_type": "code",
   "execution_count": 10,
   "id": "41ae397c",
   "metadata": {},
   "outputs": [
    {
     "data": {
      "text/plain": [
       "Text(0.5, 1.0, 'data after downsampling')"
      ]
     },
     "execution_count": 10,
     "metadata": {},
     "output_type": "execute_result"
    },
    {
     "data": {
      "image/png": "[encoded data removed]",
      "text/plain": [
       "<Figure size 640x480 with 1 Axes>"
      ]
     },
     "metadata": {},
     "output_type": "display_data"
    }
   ],
   "source": [
    "sns.countplot(data=df,x=\"Email Type\")\n",
    "plt.title(\"data after downsampling\")"
   ]
  },
  {
   "cell_type": "code",
   "execution_count": 11,
   "id": "0ed360e2",
   "metadata": {},
   "outputs": [
    {
     "data": {
      "text/plain": [
       "(14624, 2)"
      ]
     },
     "execution_count": 11,
     "metadata": {},
     "output_type": "execute_result"
    }
   ],
   "source": [
    "df.shape"
   ]
  },
  {
   "cell_type": "markdown",
   "id": "202cd84b",
   "metadata": {},
   "source": [
    "# Label Encoding\n",
    "## safe-------->0\n",
    "## pishing mail------>1"
   ]
  },
  {
   "cell_type": "code",
   "execution_count": 12,
   "id": "eecff36d",
   "metadata": {},
   "outputs": [],
   "source": [
    "df.loc[df[\"Email Type\"]==\"Safe Email\",\"Email Type\"]=0\n",
    "df.loc[df[\"Email Type\"]==\"Phishing Email\",\"Email Type\"]=1\n"
   ]
  },
  {
   "cell_type": "code",
   "execution_count": 13,
   "id": "0623b847",
   "metadata": {},
   "outputs": [
    {
     "data": {
      "text/html": [
       "<div>\n",
       "<style scoped>\n",
       "    .dataframe tbody tr th:only-of-type {\n",
       "        vertical-align: middle;\n",
       "    }\n",
       "\n",
       "    .dataframe tbody tr th {\n",
       "        vertical-align: top;\n",
       "    }\n",
       "\n",
       "    .dataframe thead th {\n",
       "        text-align: right;\n",
       "    }\n",
       "</style>\n",
       "<table border=\"1\" class=\"dataframe\">\n",
       "  <thead>\n",
       "    <tr style=\"text-align: right;\">\n",
       "      <th></th>\n",
       "      <th>Email Text</th>\n",
       "      <th>Email Type</th>\n",
       "    </tr>\n",
       "  </thead>\n",
       "  <tbody>\n",
       "    <tr>\n",
       "      <th>0</th>\n",
       "      <td>Eirikur said:\\n&gt; This incident is an interesti...</td>\n",
       "      <td>0</td>\n",
       "    </tr>\n",
       "    <tr>\n",
       "      <th>1</th>\n",
       "      <td>hpl noms for june 06 , 2000 ( see attached fil...</td>\n",
       "      <td>0</td>\n",
       "    </tr>\n",
       "    <tr>\n",
       "      <th>2</th>\n",
       "      <td>On Tue, Aug 13, 2002 at 12:48:18AM +0100, wint...</td>\n",
       "      <td>0</td>\n",
       "    </tr>\n",
       "    <tr>\n",
       "      <th>3</th>\n",
       "      <td>one more . . . http : / / www . cfo . com / ar...</td>\n",
       "      <td>0</td>\n",
       "    </tr>\n",
       "    <tr>\n",
       "      <th>4</th>\n",
       "      <td>use Perl Daily NewsletterIn this issue:\\n    *...</td>\n",
       "      <td>0</td>\n",
       "    </tr>\n",
       "  </tbody>\n",
       "</table>\n",
       "</div>"
      ],
      "text/plain": [
       "                                          Email Text Email Type\n",
       "0  Eirikur said:\\n> This incident is an interesti...          0\n",
       "1  hpl noms for june 06 , 2000 ( see attached fil...          0\n",
       "2  On Tue, Aug 13, 2002 at 12:48:18AM +0100, wint...          0\n",
       "3  one more . . . http : / / www . cfo . com / ar...          0\n",
       "4  use Perl Daily NewsletterIn this issue:\\n    *...          0"
      ]
     },
     "execution_count": 13,
     "metadata": {},
     "output_type": "execute_result"
    }
   ],
   "source": [
    "df.head()"
   ]
  },
  {
   "cell_type": "code",
   "execution_count": 14,
   "id": "31fc1ac4",
   "metadata": {},
   "outputs": [
    {
     "name": "stdout",
     "output_type": "stream",
     "text": [
      "<class 'pandas.core.frame.DataFrame'>\n",
      "RangeIndex: 14624 entries, 0 to 14623\n",
      "Data columns (total 2 columns):\n",
      " #   Column      Non-Null Count  Dtype \n",
      "---  ------      --------------  ----- \n",
      " 0   Email Text  14624 non-null  object\n",
      " 1   Email Type  14624 non-null  object\n",
      "dtypes: object(2)\n",
      "memory usage: 228.6+ KB\n"
     ]
    }
   ],
   "source": [
    "df.info()"
   ]
  },
  {
   "cell_type": "markdown",
   "id": "23e3d42a",
   "metadata": {},
   "source": [
    "# Seperating text and lables"
   ]
  },
  {
   "cell_type": "code",
   "execution_count": 15,
   "id": "2535ad91",
   "metadata": {},
   "outputs": [],
   "source": [
    "x=df['Email Text']\n",
    "y=df['Email Type']"
   ]
  },
  {
   "cell_type": "code",
   "execution_count": 16,
   "id": "508db150",
   "metadata": {},
   "outputs": [
    {
     "name": "stdout",
     "output_type": "stream",
     "text": [
      "0        Eirikur said:\\n> This incident is an interesti...\n",
      "1        hpl noms for june 06 , 2000 ( see attached fil...\n",
      "2        On Tue, Aug 13, 2002 at 12:48:18AM +0100, wint...\n",
      "3        one more . . . http : / / www . cfo . com / ar...\n",
      "4        use Perl Daily NewsletterIn this issue:\\n    *...\n",
      "                               ...                        \n",
      "14619    congratulations you have won ! ! ! pls contact...\n",
      "14620                                                empty\n",
      "14621    strong buy alert : monthly newsletter topstock...\n",
      "14622    date a lonely housewife always wanted to date ...\n",
      "14623                                                empty\n",
      "Name: Email Text, Length: 14624, dtype: object\n",
      "0        0\n",
      "1        0\n",
      "2        0\n",
      "3        0\n",
      "4        0\n",
      "        ..\n",
      "14619    1\n",
      "14620    1\n",
      "14621    1\n",
      "14622    1\n",
      "14623    1\n",
      "Name: Email Type, Length: 14624, dtype: object\n"
     ]
    }
   ],
   "source": [
    "print(x)\n",
    "print(y)"
   ]
  },
  {
   "cell_type": "code",
   "execution_count": 17,
   "id": "a282116c",
   "metadata": {},
   "outputs": [
    {
     "name": "stdout",
     "output_type": "stream",
     "text": [
      "(14624,)\n",
      "(2925,)\n",
      "(11699,)\n"
     ]
    }
   ],
   "source": [
    "x_test,x_train,y_test,y_train=train_test_split(x,y,test_size=0.2,random_state=5)\n",
    "print(x.shape)\n",
    "print(x_train.shape)\n",
    "print(x_test.shape)"
   ]
  },
  {
   "cell_type": "markdown",
   "id": "67317725",
   "metadata": {},
   "source": [
    "# Feature Extraction"
   ]
  },
  {
   "cell_type": "code",
   "execution_count": 18,
   "id": "14d11f0f",
   "metadata": {},
   "outputs": [],
   "source": [
    " feature_extraction=TfidfVectorizer(min_df=1,stop_words=\"english\",lowercase=True)"
   ]
  },
  {
   "cell_type": "code",
   "execution_count": 19,
   "id": "79fccf5d",
   "metadata": {},
   "outputs": [],
   "source": [
    "xtrainfeatures=feature_extraction.fit_transform(x_train)\n",
    "xtestfeatures=feature_extraction.transform(x_test)\n",
    "\n",
    "y_train=y_train.astype('int')\n",
    "y_test=y_test.astype('int')"
   ]
  },
  {
   "cell_type": "code",
   "execution_count": 20,
   "id": "86dc44da",
   "metadata": {
    "scrolled": true
   },
   "outputs": [
    {
     "name": "stdout",
     "output_type": "stream",
     "text": [
      "  (0, 61414)\t0.07754667431041318\n",
      "  (0, 19918)\t0.08693878433827955\n",
      "  (0, 73069)\t0.09112160829620886\n",
      "  (0, 42720)\t0.06290286962608137\n",
      "  (0, 78008)\t0.1357184470653414\n",
      "  (0, 40843)\t0.03504326018870583\n",
      "  (0, 66856)\t0.1426993725443919\n",
      "  (0, 69600)\t0.1357184470653414\n",
      "  (0, 68229)\t0.1357184470653414\n",
      "  (0, 55626)\t0.130765401613872\n",
      "  (0, 70955)\t0.1426993725443919\n",
      "  (0, 65063)\t0.11680355065577099\n",
      "  (0, 63417)\t0.1357184470653414\n",
      "  (0, 30148)\t0.12692352108776858\n",
      "  (0, 52944)\t0.1211304514434244\n",
      "  (0, 8706)\t0.1357184470653414\n",
      "  (0, 16893)\t0.1188314306833521\n",
      "  (0, 27361)\t0.07587017547228564\n",
      "  (0, 73867)\t0.1426993725443919\n",
      "  (0, 78338)\t0.130765401613872\n",
      "  (0, 21284)\t0.11498955015724867\n",
      "  (0, 37376)\t0.06871266300236656\n",
      "  (0, 45625)\t0.045380010287286804\n",
      "  (0, 56000)\t0.06992563493296325\n",
      "  (0, 28165)\t0.14061368096705565\n",
      "  :\t:\n",
      "  (2924, 81705)\t0.0060381568197675805\n",
      "  (2924, 22074)\t0.030448761265901934\n",
      "  (2924, 4032)\t0.026977675681006317\n",
      "  (2924, 42268)\t0.009029685579053197\n",
      "  (2924, 85583)\t0.01032365784277167\n",
      "  (2924, 73689)\t0.004469486526730826\n",
      "  (2924, 42766)\t0.020979767400030182\n",
      "  (2924, 85463)\t0.00459168408593613\n",
      "  (2924, 3260)\t0.003914489697506882\n",
      "  (2924, 33277)\t0.004984679778835339\n",
      "  (2924, 36843)\t0.0041562605186089155\n",
      "  (2924, 71063)\t0.0037307917310434716\n",
      "  (2924, 4157)\t0.01684230413762813\n",
      "  (2924, 9008)\t0.03283663632798048\n",
      "  (2924, 49295)\t0.003662012298589935\n",
      "  (2924, 230)\t0.00820915908199512\n",
      "  (2924, 21831)\t0.010902339409988106\n",
      "  (2924, 19159)\t0.004002433286462805\n",
      "  (2924, 73656)\t0.003794845163208936\n",
      "  (2924, 78375)\t0.0026007209595092225\n",
      "  (2924, 0)\t0.15516875776663236\n",
      "  (2924, 40843)\t0.008676499742131387\n",
      "  (2924, 6184)\t0.004328291304783957\n",
      "  (2924, 20189)\t0.003766920998377895\n",
      "  (2924, 713)\t0.0028905237979733682\n"
     ]
    }
   ],
   "source": [
    "print(xtrainfeatures)"
   ]
  },
  {
   "cell_type": "code",
   "execution_count": 21,
   "id": "a198d194",
   "metadata": {},
   "outputs": [
    {
     "name": "stdout",
     "output_type": "stream",
     "text": [
      "  (0, 85337)\t0.04144608451632088\n",
      "  (0, 85315)\t0.02961593345021283\n",
      "  (0, 85309)\t0.05031313483226734\n",
      "  (0, 84284)\t0.09086265570514777\n",
      "  (0, 84006)\t0.038613039039725454\n",
      "  (0, 83905)\t0.07427866864453465\n",
      "  (0, 83796)\t0.0607992318464199\n",
      "  (0, 83389)\t0.07427866864453465\n",
      "  (0, 83388)\t0.1412898372118805\n",
      "  (0, 83334)\t0.0472098313337032\n",
      "  (0, 82906)\t0.11244249641991971\n",
      "  (0, 82854)\t0.21898687384054003\n",
      "  (0, 82326)\t0.13613346384721745\n",
      "  (0, 82125)\t0.07064491860594024\n",
      "  (0, 81705)\t0.025388461035874627\n",
      "  (0, 80056)\t0.18630784647305393\n",
      "  (0, 79721)\t0.03949236442616777\n",
      "  (0, 79108)\t0.04133191825519333\n",
      "  (0, 79065)\t0.06443298188501431\n",
      "  (0, 78465)\t0.05278889833918941\n",
      "  (0, 78456)\t0.05822104516408839\n",
      "  (0, 78375)\t0.021870350412072904\n",
      "  (0, 78047)\t0.030485455563236338\n",
      "  (0, 77351)\t0.05320580747693847\n",
      "  (0, 75979)\t0.1485573372890693\n",
      "  :\t:\n",
      "  (11696, 42267)\t0.11688941193787238\n",
      "  (11696, 37615)\t0.14256612213068892\n",
      "  (11696, 30838)\t0.08475205184871219\n",
      "  (11696, 25260)\t0.15598776683288454\n",
      "  (11696, 15134)\t0.12084562578909834\n",
      "  (11696, 14698)\t0.25424474210812353\n",
      "  (11696, 12880)\t0.3071950730616098\n",
      "  (11696, 11068)\t0.11633036072967119\n",
      "  (11696, 11055)\t0.18890338162771964\n",
      "  (11696, 10090)\t0.11578295727319793\n",
      "  (11696, 714)\t0.09220010087937744\n",
      "  (11697, 77799)\t0.1859432170013007\n",
      "  (11697, 51473)\t0.4197951561878723\n",
      "  (11697, 51452)\t0.26678483847895545\n",
      "  (11697, 50472)\t0.47945182815468984\n",
      "  (11697, 38816)\t0.2914463163805631\n",
      "  (11697, 20604)\t0.38156148761048003\n",
      "  (11697, 13396)\t0.31474093477465986\n",
      "  (11697, 12296)\t0.26740233300438326\n",
      "  (11697, 2517)\t0.21420571281968087\n",
      "  (11697, 933)\t0.20290112381740846\n",
      "  (11698, 84237)\t0.44544867070080413\n",
      "  (11698, 68020)\t0.37318040406226216\n",
      "  (11698, 58103)\t0.6868845673979471\n",
      "  (11698, 27554)\t0.436464728088477\n"
     ]
    }
   ],
   "source": [
    "print(xtestfeatures)"
   ]
  },
  {
   "cell_type": "markdown",
   "id": "e8ecdb8c",
   "metadata": {},
   "source": [
    "# Logistic Regression"
   ]
  },
  {
   "cell_type": "code",
   "execution_count": 22,
   "id": "62b72d20",
   "metadata": {},
   "outputs": [
    {
     "data": {
      "text/plain": [
       "LogisticRegression()"
      ]
     },
     "execution_count": 22,
     "metadata": {},
     "output_type": "execute_result"
    }
   ],
   "source": [
    "model=LogisticRegression()\n",
    "model.fit(xtrainfeatures,y_train)"
   ]
  },
  {
   "cell_type": "markdown",
   "id": "b9d0296e",
   "metadata": {},
   "source": [
    "# Evaluate the train model"
   ]
  },
  {
   "cell_type": "code",
   "execution_count": 25,
   "id": "0175f97b",
   "metadata": {},
   "outputs": [
    {
     "name": "stdout",
     "output_type": "stream",
     "text": [
      "Accuracy on trained data =  0.9897435897435898\n"
     ]
    }
   ],
   "source": [
    "# Accuracy on trained data\n",
    "prediction=model.predict(xtrainfeatures)\n",
    "accuracy_traineddata=accuracy_score(y_train,prediction)\n",
    "print(\"Accuracy on trained data = \",accuracy_traineddata)"
   ]
  },
  {
   "cell_type": "code",
   "execution_count": 26,
   "id": "29125df8",
   "metadata": {},
   "outputs": [
    {
     "name": "stdout",
     "output_type": "stream",
     "text": [
      "accuracy on test data =  0.9605094452517309\n"
     ]
    }
   ],
   "source": [
    "# Accuracy on test data\n",
    "prediction=model.predict(xtestfeatures)\n",
    "accuracy_testdata=accuracy_score(y_test,prediction)\n",
    "print(\"accuracy on test data = \",accuracy_testdata)"
   ]
  },
  {
   "cell_type": "markdown",
   "id": "67b05ec7",
   "metadata": {},
   "source": [
    "# Building a predictive model"
   ]
  },
  {
   "cell_type": "code",
   "execution_count": 28,
   "id": "0f23aefc",
   "metadata": {},
   "outputs": [
    {
     "name": "stdout",
     "output_type": "stream",
     "text": [
      "Safe mail\n"
     ]
    }
   ],
   "source": [
    "#safe mail --0\n",
    "#pishing mail --1\n",
    "input=[\"the other side of * galicismos * * galicismo * is a spanish term which names the improper introduction of french words which are spanish sounding and thus very deceptive to the ear . * galicismo * is often considered to be a * barbarismo * . what would be the term which designates the opposite phenomenon , that is unlawful words of spanish origin which may have crept into french ? can someone provide examples ? thank you joseph m kozono < kozonoj @ gunet . georgetown . edu >\"]\n",
    "sample=feature_extraction.transform(input)\n",
    "prediction=model.predict(sample)\n",
    "if(prediction==0):\n",
    "    print(\"Safe mail\")\n",
    "else:\n",
    "    print(\"pishing mail\")"
   ]
  },
  {
   "cell_type": "code",
   "execution_count": 29,
   "id": "c2025121",
   "metadata": {},
   "outputs": [
    {
     "name": "stdout",
     "output_type": "stream",
     "text": [
      "pishing mail\n"
     ]
    }
   ],
   "source": [
    "#safe mail --0\n",
    "#pishing mail --1\n",
    "input=[''' Hello I am your hot lil horny toy.\n",
    "    I am the one you dream About,\n",
    "    I am a very open minded person,\n",
    "    Love to talk about and any subject.\n",
    "    Fantasy is my way of life, \n",
    "    Ultimate in sex play.     Ummmmmmmmmmmmmm\n",
    "     I am Wet and ready for you.     It is not your looks but your imagination that matters most,\n",
    "     With My sexy voice I can make your dream come true...\n",
    "  \n",
    "     Hurry Up! call me let me Cummmmm for you..........................\n",
    "TOLL-FREE:             1-877-451-TEEN (1-877-451-8336)For phone billing:     1-900-993-2582\n",
    "-- \n",
    "_______________________________________________\n",
    "Sign-up for your own FREE Personalized E-mail at Mail.com\n",
    "http://www.mail.com/?sr=signup\",Phishing Email\n",
    "4,\"software at incredibly low prices ( 86 % lower ) . drapery seventeen term represent any sing . feet wild break able build . tail , send subtract represent . job cow student inch gave . let still warm , family draw , land book . glass plan include . sentence is , hat silent nothing . order , wild famous long their . inch such , saw , person , save . face , especially sentence science . certain , cry does . two depend yes , written carry .\"''']\n",
    "sample=feature_extraction.transform(input)\n",
    "prediction=model.predict(sample)\n",
    "if(prediction==0):\n",
    "    print(\"Safe mail\")\n",
    "else:\n",
    "    print(\"pishing mail\")"
   ]
  }
 ],
 "metadata": {
  "kernelspec": {
   "display_name": "Python 3 (ipykernel)",
   "language": "python",
   "name": "python3"
  },
  "language_info": {
   "codemirror_mode": {
    "name": "ipython",
    "version": 3
   },
   "file_extension": ".py",
   "mimetype": "text/x-python",
   "name": "python",
   "nbconvert_exporter": "python",
   "pygments_lexer": "ipython3",
   "version": "3.9.13"
  }
 },
 "nbformat": 4,
 "nbformat_minor": 5
}
